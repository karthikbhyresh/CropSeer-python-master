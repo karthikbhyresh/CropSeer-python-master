{
 "cells": [
  {
   "cell_type": "code",
   "execution_count": 387,
   "metadata": {
    "collapsed": true
   },
   "outputs": [],
   "source": [
    "import pandas as pd\n",
    "import numpy as np\n",
    "import matplotlib.pyplot as pp\n",
    "import sklearn.linear_model"
   ]
  },
  {
   "cell_type": "code",
   "execution_count": 388,
   "metadata": {
    "collapsed": false,
    "scrolled": true
   },
   "outputs": [
    {
     "data": {
      "text/plain": [
       "(47, 47)"
      ]
     },
     "execution_count": 388,
     "metadata": {},
     "output_type": "execute_result"
    }
   ],
   "source": [
    "#loading every data and adding crop name and removing seed if there\n",
    "#1-banana\n",
    "data=pd.read_excel(\"data_folder/banana.xls\")\n",
    "data['Crop']='banana'\n",
    "data_total=data.copy()\n",
    "len(data),len(data_total)"
   ]
  },
  {
   "cell_type": "code",
   "execution_count": 389,
   "metadata": {
    "collapsed": false
   },
   "outputs": [
    {
     "data": {
      "text/plain": [
       "(47, 94)"
      ]
     },
     "execution_count": 389,
     "metadata": {},
     "output_type": "execute_result"
    }
   ],
   "source": [
    "#2-barley\n",
    "data=pd.read_excel('data_folder/ginger.xls')\n",
    "#data=data.drop(['Seed - tonnes'],axis=1)\n",
    "data['Crop']='ginger'\n",
    "data_total=pd.concat([data_total,data],axis=0)\n",
    "len(data),len(data_total)\n",
    "#data.head()"
   ]
  },
  {
   "cell_type": "code",
   "execution_count": 390,
   "metadata": {
    "collapsed": false
   },
   "outputs": [
    {
     "data": {
      "text/plain": [
       "(47, 141)"
      ]
     },
     "execution_count": 390,
     "metadata": {},
     "output_type": "execute_result"
    }
   ],
   "source": [
    "#3-ginger\n",
    "data=pd.read_excel('data_folder/barley.xls')\n",
    "data=data.drop(['Seed - tonnes'],axis=1)\n",
    "data['Crop']='barley'\n",
    "data_total=pd.concat([data_total,data],axis=0)\n",
    "len(data),len(data_total)"
   ]
  },
  {
   "cell_type": "code",
   "execution_count": 391,
   "metadata": {
    "collapsed": false
   },
   "outputs": [],
   "source": [
    "#4-papaya\n",
    "data=pd.read_excel('data_folder/papaya.xls')\n",
    "#data=data.drop(['Seed - tonnes'],axis=1)\n",
    "data['Crop']='papaya'\n",
    "data_total=pd.concat([data_total,data],axis=0)\n",
    "len(data),len(data_total)\n",
    "#data\n",
    "\n",
    "#len(data_total)"
   ]
  },
  {
   "cell_type": "code",
   "execution_count": 392,
   "metadata": {
    "collapsed": false
   },
   "outputs": [
    {
     "data": {
      "text/plain": [
       "(47, 235)"
      ]
     },
     "execution_count": 392,
     "metadata": {},
     "output_type": "execute_result"
    }
   ],
   "source": [
    "#5-grape\n",
    "data=pd.read_excel('data_folder/grape.xls')\n",
    "#data=data.drop(['Seed - tonnes'],axis=1)\n",
    "data['Crop']='grape'\n",
    "len(data)\n",
    "#data\n",
    "data_total=pd.concat([data_total,data],axis=0)\n",
    "data_total\n",
    "len(data),len(data_total)"
   ]
  },
  {
   "cell_type": "code",
   "execution_count": 393,
   "metadata": {
    "collapsed": false
   },
   "outputs": [
    {
     "data": {
      "text/plain": [
       "(47, 282)"
      ]
     },
     "execution_count": 393,
     "metadata": {},
     "output_type": "execute_result"
    }
   ],
   "source": [
    "#6-green pea\n",
    "data=pd.read_excel('data_folder/green_pea.xls')\n",
    "#data=data.drop(['Seed - tonnes'],axis=1)\n",
    "data['Crop']='green_pea'\n",
    "len(data)\n",
    "#data\n",
    "data_total=pd.concat([data_total,data],axis=0)\n",
    "data_total\n",
    "len(data),len(data_total)"
   ]
  },
  {
   "cell_type": "code",
   "execution_count": 394,
   "metadata": {
    "collapsed": false
   },
   "outputs": [
    {
     "data": {
      "text/html": [
       "<div>\n",
       "<table border=\"1\" class=\"dataframe\">\n",
       "  <thead>\n",
       "    <tr style=\"text-align: right;\">\n",
       "      <th></th>\n",
       "      <th>Date</th>\n",
       "      <th>Area Harvested - Ha</th>\n",
       "      <th>Yield - Hg/Ha</th>\n",
       "      <th>Production Quantity - tonnes</th>\n",
       "      <th>Crop</th>\n",
       "    </tr>\n",
       "  </thead>\n",
       "  <tbody>\n",
       "    <tr>\n",
       "      <th>0</th>\n",
       "      <td>2007-12-31</td>\n",
       "      <td>622200</td>\n",
       "      <td>349829</td>\n",
       "      <td>21766400</td>\n",
       "      <td>banana</td>\n",
       "    </tr>\n",
       "    <tr>\n",
       "      <th>1</th>\n",
       "      <td>2006-12-31</td>\n",
       "      <td>600300</td>\n",
       "      <td>347456</td>\n",
       "      <td>20857800</td>\n",
       "      <td>banana</td>\n",
       "    </tr>\n",
       "    <tr>\n",
       "      <th>2</th>\n",
       "      <td>2005-12-31</td>\n",
       "      <td>565100</td>\n",
       "      <td>330948</td>\n",
       "      <td>18701900</td>\n",
       "      <td>banana</td>\n",
       "    </tr>\n",
       "    <tr>\n",
       "      <th>3</th>\n",
       "      <td>2004-12-31</td>\n",
       "      <td>535000</td>\n",
       "      <td>305203</td>\n",
       "      <td>16328400</td>\n",
       "      <td>banana</td>\n",
       "    </tr>\n",
       "    <tr>\n",
       "      <th>4</th>\n",
       "      <td>2003-12-31</td>\n",
       "      <td>498600</td>\n",
       "      <td>277910</td>\n",
       "      <td>13856600</td>\n",
       "      <td>banana</td>\n",
       "    </tr>\n",
       "  </tbody>\n",
       "</table>\n",
       "</div>"
      ],
      "text/plain": [
       "        Date  Area Harvested - Ha  Yield - Hg/Ha  \\\n",
       "0 2007-12-31               622200         349829   \n",
       "1 2006-12-31               600300         347456   \n",
       "2 2005-12-31               565100         330948   \n",
       "3 2004-12-31               535000         305203   \n",
       "4 2003-12-31               498600         277910   \n",
       "\n",
       "   Production Quantity - tonnes    Crop  \n",
       "0                      21766400  banana  \n",
       "1                      20857800  banana  \n",
       "2                      18701900  banana  \n",
       "3                      16328400  banana  \n",
       "4                      13856600  banana  "
      ]
     },
     "execution_count": 394,
     "metadata": {},
     "output_type": "execute_result"
    }
   ],
   "source": [
    "#7-pinnaple\n",
    "data=pd.read_excel('data_folder/pineapple.xls')\n",
    "#data=data.drop(['Seed - tonnes'],axis=1)\n",
    "data['Crop']='pineapple'\n",
    "len(data)\n",
    "#data\n",
    "data_total=pd.concat([data_total,data],axis=0)\n",
    "data_total\n",
    "len(data),len(data_total)\n",
    "data_total.head()"
   ]
  },
  {
   "cell_type": "code",
   "execution_count": 395,
   "metadata": {
    "collapsed": false
   },
   "outputs": [],
   "source": [
    "#8-potato\n",
    "data=pd.read_excel('data_folder/potato.xls')\n",
    "data=data.drop(['Seed - tonnes'],axis=1)\n",
    "data['Crop']='potato'\n",
    "len(data)\n",
    "#data\n",
    "data_total=pd.concat([data_total,data],axis=0)\n",
    "data_total\n",
    "len(data),len(data_total)\n",
    "data_total.head()"
   ]
  },
  {
   "cell_type": "code",
   "execution_count": 396,
   "metadata": {
    "collapsed": false
   },
   "outputs": [
    {
     "data": {
      "text/html": [
       "<div>\n",
       "<table border=\"1\" class=\"dataframe\">\n",
       "  <thead>\n",
       "    <tr style=\"text-align: right;\">\n",
       "      <th></th>\n",
       "      <th>Date</th>\n",
       "      <th>Area Harvested - Ha</th>\n",
       "      <th>Yield - Hg/Ha</th>\n",
       "      <th>Production Quantity - tonnes</th>\n",
       "      <th>Crop</th>\n",
       "    </tr>\n",
       "  </thead>\n",
       "  <tbody>\n",
       "    <tr>\n",
       "      <th>0</th>\n",
       "      <td>2007-12-31</td>\n",
       "      <td>622200</td>\n",
       "      <td>349829</td>\n",
       "      <td>21766400</td>\n",
       "      <td>banana</td>\n",
       "    </tr>\n",
       "    <tr>\n",
       "      <th>1</th>\n",
       "      <td>2006-12-31</td>\n",
       "      <td>600300</td>\n",
       "      <td>347456</td>\n",
       "      <td>20857800</td>\n",
       "      <td>banana</td>\n",
       "    </tr>\n",
       "    <tr>\n",
       "      <th>2</th>\n",
       "      <td>2005-12-31</td>\n",
       "      <td>565100</td>\n",
       "      <td>330948</td>\n",
       "      <td>18701900</td>\n",
       "      <td>banana</td>\n",
       "    </tr>\n",
       "    <tr>\n",
       "      <th>3</th>\n",
       "      <td>2004-12-31</td>\n",
       "      <td>535000</td>\n",
       "      <td>305203</td>\n",
       "      <td>16328400</td>\n",
       "      <td>banana</td>\n",
       "    </tr>\n",
       "    <tr>\n",
       "      <th>4</th>\n",
       "      <td>2003-12-31</td>\n",
       "      <td>498600</td>\n",
       "      <td>277910</td>\n",
       "      <td>13856600</td>\n",
       "      <td>banana</td>\n",
       "    </tr>\n",
       "  </tbody>\n",
       "</table>\n",
       "</div>"
      ],
      "text/plain": [
       "        Date  Area Harvested - Ha  Yield - Hg/Ha  \\\n",
       "0 2007-12-31               622200         349829   \n",
       "1 2006-12-31               600300         347456   \n",
       "2 2005-12-31               565100         330948   \n",
       "3 2004-12-31               535000         305203   \n",
       "4 2003-12-31               498600         277910   \n",
       "\n",
       "   Production Quantity - tonnes    Crop  \n",
       "0                      21766400  banana  \n",
       "1                      20857800  banana  \n",
       "2                      18701900  banana  \n",
       "3                      16328400  banana  \n",
       "4                      13856600  banana  "
      ]
     },
     "execution_count": 396,
     "metadata": {},
     "output_type": "execute_result"
    }
   ],
   "source": [
    "#9-tomato\n",
    "data=pd.read_excel('data_folder/tomato.xls')\n",
    "#data=data.drop(['Seed - tonnes'],axis=1)\n",
    "data['Crop']='tomato'\n",
    "len(data)\n",
    "#data\n",
    "data_total=pd.concat([data_total,data],axis=0)\n",
    "data_total\n",
    "len(data),len(data_total)\n",
    "data_total.head()"
   ]
  },
  {
   "cell_type": "code",
   "execution_count": 397,
   "metadata": {
    "collapsed": false
   },
   "outputs": [
    {
     "data": {
      "text/plain": [
       "(47, 470)"
      ]
     },
     "execution_count": 397,
     "metadata": {},
     "output_type": "execute_result"
    }
   ],
   "source": [
    "#10-wheat\n",
    "data=pd.read_excel('data_folder/wheat.xls')\n",
    "data=data.drop(['Seed - tonnes'],axis=1)\n",
    "data['Crop']='wheat'\n",
    "len(data)\n",
    "#data\n",
    "data_total=pd.concat([data_total,data],axis=0)\n",
    "data_total\n",
    "len(data),len(data_total)\n",
    "#data_total.head()"
   ]
  },
  {
   "cell_type": "code",
   "execution_count": 398,
   "metadata": {
    "collapsed": false
   },
   "outputs": [
    {
     "data": {
      "text/plain": [
       "(47, 517)"
      ]
     },
     "execution_count": 398,
     "metadata": {},
     "output_type": "execute_result"
    }
   ],
   "source": [
    "#11-tea\n",
    "data=pd.read_excel('data_folder/tea.xls')\n",
    "#data=data.drop(['Seed - tonnes'],axis=1)\n",
    "data['Crop']='tea'\n",
    "len(data)\n",
    "#data\n",
    "data_total=pd.concat([data_total,data],axis=0)\n",
    "data_total\n",
    "len(data),len(data_total)\n",
    "#data_total.head()"
   ]
  },
  {
   "cell_type": "code",
   "execution_count": 399,
   "metadata": {
    "collapsed": false
   },
   "outputs": [
    {
     "data": {
      "text/plain": [
       "(47, 564)"
      ]
     },
     "execution_count": 399,
     "metadata": {},
     "output_type": "execute_result"
    }
   ],
   "source": [
    "#12-maize\n",
    "data=pd.read_excel('data_folder/maize.xls')\n",
    "data=data.drop(['Seed - tonnes'],axis=1)\n",
    "data['Crop']='maize'\n",
    "len(data)\n",
    "#data\n",
    "data_total=pd.concat([data_total,data],axis=0)\n",
    "data_total\n",
    "len(data),len(data_total)\n",
    "#data_total.head()"
   ]
  },
  {
   "cell_type": "code",
   "execution_count": 400,
   "metadata": {
    "collapsed": false
   },
   "outputs": [
    {
     "data": {
      "text/plain": [
       "(47, 611)"
      ]
     },
     "execution_count": 400,
     "metadata": {},
     "output_type": "execute_result"
    }
   ],
   "source": [
    "#13-rice\n",
    "data=pd.read_excel('data_folder/rice.xls')\n",
    "data=data.drop(['Seed - tonnes'],axis=1)\n",
    "data['Crop']='rice'\n",
    "len(data)\n",
    "#data\n",
    "data_total=pd.concat([data_total,data],axis=0)\n",
    "data_total\n",
    "len(data),len(data_total)\n",
    "#data_total.head()"
   ]
  },
  {
   "cell_type": "code",
   "execution_count": 401,
   "metadata": {
    "collapsed": false
   },
   "outputs": [
    {
     "data": {
      "text/plain": [
       "(47, 658)"
      ]
     },
     "execution_count": 401,
     "metadata": {},
     "output_type": "execute_result"
    }
   ],
   "source": [
    "#14-sugarcane\n",
    "data=pd.read_excel('data_folder/sugarcane.xls')\n",
    "data=data.drop(['Seed - tonnes'],axis=1)\n",
    "data['Crop']='sugarcane'\n",
    "len(data)\n",
    "#data\n",
    "data_total=pd.concat([data_total,data],axis=0)\n",
    "data_total\n",
    "len(data),len(data_total)\n",
    "#data_total.head()"
   ]
  },
  {
   "cell_type": "code",
   "execution_count": 402,
   "metadata": {
    "collapsed": false
   },
   "outputs": [],
   "source": [
    "#setting proper index , to keep uniqueness\n",
    "data_total.index=[i for i in range(len(data_total))]"
   ]
  },
  {
   "cell_type": "code",
   "execution_count": 403,
   "metadata": {
    "collapsed": false
   },
   "outputs": [
    {
     "data": {
      "text/html": [
       "<div>\n",
       "<table border=\"1\" class=\"dataframe\">\n",
       "  <thead>\n",
       "    <tr style=\"text-align: right;\">\n",
       "      <th></th>\n",
       "      <th>Area Harvested - Ha</th>\n",
       "      <th>Yield - Hg/Ha</th>\n",
       "      <th>Production Quantity - tonnes</th>\n",
       "      <th>Crop</th>\n",
       "      <th>year</th>\n",
       "    </tr>\n",
       "  </thead>\n",
       "  <tbody>\n",
       "    <tr>\n",
       "      <th>0</th>\n",
       "      <td>622200</td>\n",
       "      <td>349829</td>\n",
       "      <td>21766400</td>\n",
       "      <td>banana</td>\n",
       "      <td>2007</td>\n",
       "    </tr>\n",
       "    <tr>\n",
       "      <th>1</th>\n",
       "      <td>600300</td>\n",
       "      <td>347456</td>\n",
       "      <td>20857800</td>\n",
       "      <td>banana</td>\n",
       "      <td>2006</td>\n",
       "    </tr>\n",
       "    <tr>\n",
       "      <th>2</th>\n",
       "      <td>565100</td>\n",
       "      <td>330948</td>\n",
       "      <td>18701900</td>\n",
       "      <td>banana</td>\n",
       "      <td>2005</td>\n",
       "    </tr>\n",
       "    <tr>\n",
       "      <th>3</th>\n",
       "      <td>535000</td>\n",
       "      <td>305203</td>\n",
       "      <td>16328400</td>\n",
       "      <td>banana</td>\n",
       "      <td>2004</td>\n",
       "    </tr>\n",
       "    <tr>\n",
       "      <th>4</th>\n",
       "      <td>498600</td>\n",
       "      <td>277910</td>\n",
       "      <td>13856600</td>\n",
       "      <td>banana</td>\n",
       "      <td>2003</td>\n",
       "    </tr>\n",
       "  </tbody>\n",
       "</table>\n",
       "</div>"
      ],
      "text/plain": [
       "   Area Harvested - Ha  Yield - Hg/Ha  Production Quantity - tonnes    Crop  \\\n",
       "0               622200         349829                      21766400  banana   \n",
       "1               600300         347456                      20857800  banana   \n",
       "2               565100         330948                      18701900  banana   \n",
       "3               535000         305203                      16328400  banana   \n",
       "4               498600         277910                      13856600  banana   \n",
       "\n",
       "   year  \n",
       "0  2007  \n",
       "1  2006  \n",
       "2  2005  \n",
       "3  2004  \n",
       "4  2003  "
      ]
     },
     "execution_count": 403,
     "metadata": {},
     "output_type": "execute_result"
    }
   ],
   "source": [
    "#replacing the Date,which is a timestamp() or datetime() object to year(int64)\n",
    "data_total['year']=data_total['Date'].dt.year\n",
    "#deleting Date, column \n",
    "data_total.drop('Date',axis=1,inplace=True)\n",
    "#type(data_total['year'][0])\n",
    "data_total.head()"
   ]
  },
  {
   "cell_type": "code",
   "execution_count": 404,
   "metadata": {
    "collapsed": false
   },
   "outputs": [
    {
     "data": {
      "text/plain": [
       "['Crop',\n",
       " 'year',\n",
       " 'Area Harvested - Ha',\n",
       " 'Production Quantity - tonnes',\n",
       " 'Yield - Hg/Ha']"
      ]
     },
     "execution_count": 404,
     "metadata": {},
     "output_type": "execute_result"
    }
   ],
   "source": [
    "#rearranging columns in some other order\n",
    "cols=data_total.columns.tolist()\n",
    "cols=cols[-2:]+cols[0:1]+cols[2:3]+cols[1:2]\n",
    "cols"
   ]
  },
  {
   "cell_type": "code",
   "execution_count": 405,
   "metadata": {
    "collapsed": false
   },
   "outputs": [
    {
     "data": {
      "text/html": [
       "<div>\n",
       "<table border=\"1\" class=\"dataframe\">\n",
       "  <thead>\n",
       "    <tr style=\"text-align: right;\">\n",
       "      <th></th>\n",
       "      <th>Crop</th>\n",
       "      <th>year</th>\n",
       "      <th>Area Harvested - Ha</th>\n",
       "      <th>Production Quantity - tonnes</th>\n",
       "      <th>Yield - Hg/Ha</th>\n",
       "    </tr>\n",
       "  </thead>\n",
       "  <tbody>\n",
       "    <tr>\n",
       "      <th>0</th>\n",
       "      <td>banana</td>\n",
       "      <td>2007</td>\n",
       "      <td>622200</td>\n",
       "      <td>21766400</td>\n",
       "      <td>349829</td>\n",
       "    </tr>\n",
       "    <tr>\n",
       "      <th>1</th>\n",
       "      <td>banana</td>\n",
       "      <td>2006</td>\n",
       "      <td>600300</td>\n",
       "      <td>20857800</td>\n",
       "      <td>347456</td>\n",
       "    </tr>\n",
       "    <tr>\n",
       "      <th>2</th>\n",
       "      <td>banana</td>\n",
       "      <td>2005</td>\n",
       "      <td>565100</td>\n",
       "      <td>18701900</td>\n",
       "      <td>330948</td>\n",
       "    </tr>\n",
       "    <tr>\n",
       "      <th>3</th>\n",
       "      <td>banana</td>\n",
       "      <td>2004</td>\n",
       "      <td>535000</td>\n",
       "      <td>16328400</td>\n",
       "      <td>305203</td>\n",
       "    </tr>\n",
       "    <tr>\n",
       "      <th>4</th>\n",
       "      <td>banana</td>\n",
       "      <td>2003</td>\n",
       "      <td>498600</td>\n",
       "      <td>13856600</td>\n",
       "      <td>277910</td>\n",
       "    </tr>\n",
       "  </tbody>\n",
       "</table>\n",
       "</div>"
      ],
      "text/plain": [
       "     Crop  year  Area Harvested - Ha  Production Quantity - tonnes  \\\n",
       "0  banana  2007               622200                      21766400   \n",
       "1  banana  2006               600300                      20857800   \n",
       "2  banana  2005               565100                      18701900   \n",
       "3  banana  2004               535000                      16328400   \n",
       "4  banana  2003               498600                      13856600   \n",
       "\n",
       "   Yield - Hg/Ha  \n",
       "0         349829  \n",
       "1         347456  \n",
       "2         330948  \n",
       "3         305203  \n",
       "4         277910  "
      ]
     },
     "execution_count": 405,
     "metadata": {},
     "output_type": "execute_result"
    }
   ],
   "source": [
    "#now rearrange the data_total according to these columns\n",
    "data_total=data_total[cols]\n",
    "data_total.head()"
   ]
  },
  {
   "cell_type": "code",
   "execution_count": 406,
   "metadata": {
    "collapsed": false,
    "scrolled": true
   },
   "outputs": [],
   "source": [
    "#exporting to a file\n",
    "data_total.to_excel('data_complete_arranged.xls')"
   ]
  },
  {
   "cell_type": "code",
   "execution_count": 407,
   "metadata": {
    "collapsed": true
   },
   "outputs": [],
   "source": [
    "#shuffling the data so will be easy to devide into train and test data"
   ]
  },
  {
   "cell_type": "code",
   "execution_count": 408,
   "metadata": {
    "collapsed": false
   },
   "outputs": [
    {
     "data": {
      "text/html": [
       "<div>\n",
       "<table border=\"1\" class=\"dataframe\">\n",
       "  <thead>\n",
       "    <tr style=\"text-align: right;\">\n",
       "      <th></th>\n",
       "      <th>Crop</th>\n",
       "      <th>year</th>\n",
       "      <th>Area Harvested - Ha</th>\n",
       "      <th>Production Quantity - tonnes</th>\n",
       "      <th>Yield - Hg/Ha</th>\n",
       "    </tr>\n",
       "  </thead>\n",
       "  <tbody>\n",
       "    <tr>\n",
       "      <th>0</th>\n",
       "      <td>grape</td>\n",
       "      <td>1993</td>\n",
       "      <td>6000</td>\n",
       "      <td>1200000</td>\n",
       "      <td>18432</td>\n",
       "    </tr>\n",
       "    <tr>\n",
       "      <th>1</th>\n",
       "      <td>rice</td>\n",
       "      <td>1978</td>\n",
       "      <td>6300000</td>\n",
       "      <td>73352000</td>\n",
       "      <td>19623</td>\n",
       "    </tr>\n",
       "    <tr>\n",
       "      <th>2</th>\n",
       "      <td>barley</td>\n",
       "      <td>1985</td>\n",
       "      <td>70000</td>\n",
       "      <td>104225008</td>\n",
       "      <td>258628</td>\n",
       "    </tr>\n",
       "    <tr>\n",
       "      <th>3</th>\n",
       "      <td>tomato</td>\n",
       "      <td>1963</td>\n",
       "      <td>434000</td>\n",
       "      <td>24734608</td>\n",
       "      <td>343061</td>\n",
       "    </tr>\n",
       "    <tr>\n",
       "      <th>4</th>\n",
       "      <td>pineapple</td>\n",
       "      <td>1998</td>\n",
       "      <td>12572000</td>\n",
       "      <td>246806</td>\n",
       "      <td>137248</td>\n",
       "    </tr>\n",
       "  </tbody>\n",
       "</table>\n",
       "</div>"
      ],
      "text/plain": [
       "        Crop  year  Area Harvested - Ha  Production Quantity - tonnes  \\\n",
       "0      grape  1993                 6000                       1200000   \n",
       "1       rice  1978              6300000                      73352000   \n",
       "2     barley  1985                70000                     104225008   \n",
       "3     tomato  1963               434000                      24734608   \n",
       "4  pineapple  1998             12572000                        246806   \n",
       "\n",
       "   Yield - Hg/Ha  \n",
       "0          18432  \n",
       "1          19623  \n",
       "2         258628  \n",
       "3         343061  \n",
       "4         137248  "
      ]
     },
     "execution_count": 408,
     "metadata": {},
     "output_type": "execute_result"
    }
   ],
   "source": [
    "data_total=data_total.apply(np.random.permutation)\n",
    "#exporting to filea\n",
    "data_total.to_excel('data_complete_shuffled.xls')\n",
    "data_total.head()"
   ]
  }
 ],
 "metadata": {
  "kernelspec": {
   "display_name": "Python 3",
   "language": "python",
   "name": "python3"
  },
  "language_info": {
   "codemirror_mode": {
    "name": "ipython",
    "version": 3.0
   },
   "file_extension": ".py",
   "mimetype": "text/x-python",
   "name": "python",
   "nbconvert_exporter": "python",
   "pygments_lexer": "ipython3",
   "version": "3.6.0"
  }
 },
 "nbformat": 4,
 "nbformat_minor": 0
}