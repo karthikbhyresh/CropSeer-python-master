{
 "cells": [
  {
   "cell_type": "code",
   "execution_count": 361,
   "metadata": {
    "collapsed": false
   },
   "outputs": [],
   "source": [
    "import pandas as pd\n",
    "import numpy as np\n",
    "from sklearn.linear_model import LinearRegression\n",
    "import matplotlib.pyplot as pp\n",
    "from  sklearn import preprocessing\n",
    "%matplotlib inline"
   ]
  },
  {
   "cell_type": "code",
   "execution_count": 379,
   "metadata": {
    "collapsed": false
   },
   "outputs": [
    {
     "data": {
      "text/plain": [
       "['grape',\n",
       " 'rice',\n",
       " 'barley',\n",
       " 'tomato',\n",
       " 'pineapple',\n",
       " 'tea',\n",
       " 'banana',\n",
       " 'potato',\n",
       " 'green_pea',\n",
       " 'sugarcane',\n",
       " 'wheat',\n",
       " 'ginger',\n",
       " 'papaya',\n",
       " 'maize']"
      ]
     },
     "execution_count": 379,
     "metadata": {},
     "output_type": "execute_result"
    }
   ],
   "source": [
    "crop_name='banana'\n",
    "state='mp'\n",
    "region='bhopal'\n",
    "#loading data\n",
    "data=pd.read_excel('data/'+state+'/'+region+'_data.xls')# eg. mp/bhopal_data.xls\n"
   ]
  },
  {
   "cell_type": "code",
   "execution_count": 363,
   "metadata": {
    "collapsed": false
   },
   "outputs": [],
   "source": [
    "#prediction will be done according to different crops as one will not \n",
    "#depend on other and hence distort the graph for others.\n",
    "#filter data according to crop_name\n",
    "data=data.loc[data['Crop']==crop_name]\n",
    "#now sorted so that we could only take last 10 years to predict next\n",
    "data=data.sort_values(by='year',ascending=True).drop('Crop',axis=1).drop('Production Quantity - tonnes',axis=1).drop('year',axis=1)\n",
    "#data.tail()"
   ]
  },
  {
   "cell_type": "code",
   "execution_count": 364,
   "metadata": {
    "collapsed": false
   },
   "outputs": [],
   "source": [
    "\n",
    "\n",
    "# as fit() method can't use 'string' and out \"Crop\" column has string so we have to transform into intergers\n",
    "# method 1 - find number of classes and assign unique id manually\n",
    "# method 2 - let python do that for us ,using 'labelEncoder' class\n",
    "\n",
    "\n",
    "#NOT NEEDED as we have filtered above according to crop and removed 'Crop' column\n",
    "\n",
    "# #creating labelEncoder\n",
    "# encoder=preprocessing.LabelEncoder()#creating object\n",
    "# encoder.fit(data['Crop'])#fitting 'string labels' with encode as integers\n",
    "# #transform - convert string to number, inverse_transform -convert number to string\n",
    "# X['crop']=encoder.transform(data['Crop'])\n",
    "# #encoder.inverse_transform(0)\n",
    "# #removing the X['Crop'] column\n",
    "# X.drop(inplace=True,axis=1,labels='Crop')\n"
   ]
  },
  {
   "cell_type": "code",
   "execution_count": 365,
   "metadata": {
    "collapsed": false
   },
   "outputs": [],
   "source": [
    "#making model\n",
    "model=LinearRegression()\n",
    "#data.head()"
   ]
  },
  {
   "cell_type": "code",
   "execution_count": 366,
   "metadata": {
    "collapsed": false,
    "scrolled": false
   },
   "outputs": [],
   "source": [
    "#deviding into features and labels\n",
    "X,y=data.iloc[:,0:-1],data.iloc[:,-1:]\n",
    "# X# all columns other than last(features)\n",
    "# y#only last column, Yeild(label)"
   ]
  },
  {
   "cell_type": "code",
   "execution_count": 367,
   "metadata": {
    "collapsed": false
   },
   "outputs": [],
   "source": [
    "#devided data into training and testing but now not needed\n",
    "# Xdas=X.iloc[-10:-5]\n",
    "# ydas=y.iloc[-10:-5]#last 10\n",
    "# ydas"
   ]
  },
  {
   "cell_type": "code",
   "execution_count": 368,
   "metadata": {
    "collapsed": false
   },
   "outputs": [
    {
     "data": {
      "text/plain": [
       "LinearRegression(copy_X=True, fit_intercept=True, n_jobs=1, normalize=False)"
      ]
     },
     "execution_count": 368,
     "metadata": {},
     "output_type": "execute_result"
    }
   ],
   "source": [
    "#training model from full data\n",
    "model.fit(X,y)"
   ]
  },
  {
   "cell_type": "code",
   "execution_count": 369,
   "metadata": {
    "collapsed": false
   },
   "outputs": [],
   "source": [
    "#model.score(X[-10:],y[-10:])"
   ]
  },
  {
   "cell_type": "code",
   "execution_count": 370,
   "metadata": {
    "collapsed": false
   },
   "outputs": [],
   "source": [
    "#plotting here for just showing, not needed in real program\n",
    "# pp.plot(range(1961,2003),y.iloc[:-5]) # training\n",
    "# pp.plot(range(2002,2007),y.iloc[-5:]) # test\n",
    "# pp.plot(range(2002,2007),model.predict(X.iloc[-5:])) # predicted\n",
    "\n",
    "# #plotting line\n",
    "# x_plot=np.arange(1961,2007)\n",
    "# y_plot=model.coef_[0]*x_plot+model.intercept_\n",
    "# pp.plot(x_plot,y_plot)\n",
    "# pp.legend(['Trainig Data','Testing Data','Predicted Data','Plotted Line'])\n",
    "\n"
   ]
  },
  {
   "cell_type": "code",
   "execution_count": 371,
   "metadata": {
    "collapsed": false
   },
   "outputs": [],
   "source": [
    "#exporting data in json format\n",
    "#1-training data\n",
    "y_temp=pd.DataFrame()\n",
    "y_temp['yeild']=y.iloc[:-5]['Yield - Hg/Ha']\n",
    "y_temp['year']=np.arange(1961,2003)\n",
    "y_temp.set_index('year')\n",
    "y_temp.to_json(region+\"_\"+crop_name+\"_training.json\")\n",
    "#y_temp.tail()"
   ]
  },
  {
   "cell_type": "code",
   "execution_count": 372,
   "metadata": {
    "collapsed": false
   },
   "outputs": [],
   "source": [
    "#2-predicted for next 5 years\n",
    "y_temp=pd.DataFrame()\n",
    "y_temp['year']=np.arange(2003,2008)\n",
    "y_temp.set_index('year')\n",
    "y_temp['yeild']=model.predict(X.iloc[-5:])\n",
    "y_temp.to_json(region+\"_\"+crop_name+\"_predicated.json\")\n",
    "#y_temp"
   ]
  },
  {
   "cell_type": "code",
   "execution_count": 373,
   "metadata": {
    "collapsed": false,
    "scrolled": true
   },
   "outputs": [],
   "source": [
    "# model.intercept_,model.coef_[0]\n",
    "# model.coef_"
   ]
  },
  {
   "cell_type": "code",
   "execution_count": 374,
   "metadata": {
    "collapsed": false
   },
   "outputs": [],
   "source": [
    "#plotting line individually\n",
    "# x_plot=np.arange(1961,2007)\n",
    "# y_plot=model.coef_[0]*x_plot+model.intercept_\n",
    "# pp.plot(x_plot,y_plot)\n",
    "# pp.legend(['Trainig Data','Testing Data','Predicted Data','Plotted Line'])\n"
   ]
  },
  {
   "cell_type": "code",
   "execution_count": 375,
   "metadata": {
    "collapsed": false
   },
   "outputs": [],
   "source": [
    "#now applying the same procedure on all different type of crop over bhopal region "
   ]
  },
  {
   "cell_type": "code",
   "execution_count": null,
   "metadata": {
    "collapsed": true
   },
   "outputs": [],
   "source": []
  }
 ],
 "metadata": {
  "kernelspec": {
   "display_name": "Python 3",
   "language": "python",
   "name": "python3"
  },
  "language_info": {
   "codemirror_mode": {
    "name": "ipython",
    "version": 3
   },
   "file_extension": ".py",
   "mimetype": "text/x-python",
   "name": "python",
   "nbconvert_exporter": "python",
   "pygments_lexer": "ipython3",
   "version": "3.6.0"
  }
 },
 "nbformat": 4,
 "nbformat_minor": 2
}
